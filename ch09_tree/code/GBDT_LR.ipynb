{
 "cells": [
  {
   "cell_type": "code",
   "execution_count": 1,
   "metadata": {},
   "outputs": [
    {
     "data": {
      "text/html": [
       "<div>\n",
       "<style scoped>\n",
       "    .dataframe tbody tr th:only-of-type {\n",
       "        vertical-align: middle;\n",
       "    }\n",
       "\n",
       "    .dataframe tbody tr th {\n",
       "        vertical-align: top;\n",
       "    }\n",
       "\n",
       "    .dataframe thead th {\n",
       "        text-align: right;\n",
       "    }\n",
       "</style>\n",
       "<table border=\"1\" class=\"dataframe\">\n",
       "  <thead>\n",
       "    <tr style=\"text-align: right;\">\n",
       "      <th></th>\n",
       "      <th>x1</th>\n",
       "      <th>x2</th>\n",
       "      <th>x3</th>\n",
       "      <th>x4</th>\n",
       "      <th>y</th>\n",
       "    </tr>\n",
       "  </thead>\n",
       "  <tbody>\n",
       "    <tr>\n",
       "      <th>0</th>\n",
       "      <td>2.944204</td>\n",
       "      <td>1.259939</td>\n",
       "      <td>-1.321866</td>\n",
       "      <td>2.514267</td>\n",
       "      <td>1</td>\n",
       "    </tr>\n",
       "    <tr>\n",
       "      <th>1</th>\n",
       "      <td>-2.398223</td>\n",
       "      <td>-1.181556</td>\n",
       "      <td>1.049449</td>\n",
       "      <td>-1.982192</td>\n",
       "      <td>0</td>\n",
       "    </tr>\n",
       "    <tr>\n",
       "      <th>2</th>\n",
       "      <td>-1.533353</td>\n",
       "      <td>0.119723</td>\n",
       "      <td>0.824793</td>\n",
       "      <td>-1.638382</td>\n",
       "      <td>0</td>\n",
       "    </tr>\n",
       "    <tr>\n",
       "      <th>3</th>\n",
       "      <td>-0.221797</td>\n",
       "      <td>1.415816</td>\n",
       "      <td>0.365082</td>\n",
       "      <td>-0.829876</td>\n",
       "      <td>0</td>\n",
       "    </tr>\n",
       "    <tr>\n",
       "      <th>4</th>\n",
       "      <td>-1.252638</td>\n",
       "      <td>-0.522779</td>\n",
       "      <td>0.564732</td>\n",
       "      <td>-1.075345</td>\n",
       "      <td>0</td>\n",
       "    </tr>\n",
       "  </tbody>\n",
       "</table>\n",
       "</div>"
      ],
      "text/plain": [
       "         x1        x2        x3        x4  y\n",
       "0  2.944204  1.259939 -1.321866  2.514267  1\n",
       "1 -2.398223 -1.181556  1.049449 -1.982192  0\n",
       "2 -1.533353  0.119723  0.824793 -1.638382  0\n",
       "3 -0.221797  1.415816  0.365082 -0.829876  0\n",
       "4 -1.252638 -0.522779  0.564732 -1.075345  0"
      ]
     },
     "execution_count": 1,
     "metadata": {},
     "output_type": "execute_result"
    }
   ],
   "source": [
    "# 生成训练数据\n",
    "\n",
    "import numpy as np\n",
    "import pandas as pd\n",
    "from sklearn.datasets import make_classification\n",
    "\n",
    "\n",
    "np.random.seed(4040)\n",
    "## 设定数据个数\n",
    "n = 4000\n",
    "features = [\"x1\", \"x2\", \"x3\", \"x4\"]\n",
    "label = \"y\"\n",
    "X, y = make_classification(n_samples=n, n_features=4)\n",
    "data = pd.DataFrame(X, columns=features)\n",
    "data[label] = y\n",
    "data.head()"
   ]
  },
  {
   "cell_type": "code",
   "execution_count": 2,
   "metadata": {},
   "outputs": [],
   "source": [
    "# 划分训练集和测试集\n",
    "\n",
    "from sklearn.model_selection import train_test_split\n",
    "\n",
    "\n",
    "train_data, test_data = train_test_split(data, test_size=0.5)\n",
    "## res用来记录模型结果\n",
    "res = {}"
   ]
  },
  {
   "cell_type": "code",
   "execution_count": 3,
   "metadata": {},
   "outputs": [
    {
     "name": "stderr",
     "output_type": "stream",
     "text": [
      "/anaconda3/lib/python3.6/site-packages/sklearn/linear_model/logistic.py:432: FutureWarning: Default solver will be changed to 'lbfgs' in 0.22. Specify a solver to silence this warning.\n",
      "  FutureWarning)\n"
     ]
    }
   ],
   "source": [
    "# 单独使用逻辑回归\n",
    "\n",
    "from sklearn.linear_model import LogisticRegression\n",
    "from sklearn.metrics import roc_curve\n",
    "\n",
    "\n",
    "logit_model = LogisticRegression()\n",
    "logit_model.fit(train_data[features], train_data[label])\n",
    "logit_prob = logit_model.predict_proba(test_data[features])[:, 1]\n",
    "res[\"logit\"] = roc_curve(test_data[label], logit_prob)"
   ]
  },
  {
   "cell_type": "code",
   "execution_count": 4,
   "metadata": {},
   "outputs": [],
   "source": [
    "# 单独使用GBDT\n",
    "\n",
    "from sklearn.ensemble import GradientBoostingClassifier\n",
    "\n",
    "    \n",
    "gbdt = GradientBoostingClassifier(max_depth=2, n_estimators=3)\n",
    "gbdt.fit(train_data[features], train_data[label])\n",
    "gbdt_prob = gbdt.predict_proba(test_data[features])[:, 1]\n",
    "res[\"GBDT\"] = roc_curve(test_data[label], gbdt_prob)"
   ]
  },
  {
   "cell_type": "code",
   "execution_count": 5,
   "metadata": {},
   "outputs": [
    {
     "name": "stdout",
     "output_type": "stream",
     "text": [
      "[[2. 2. 2. 2. 2. 2. 2. 2. 2. 2.]\n",
      " [5. 5. 5. 5. 5. 5. 5. 5. 5. 5.]\n",
      " [6. 6. 6. 6. 6. 6. 6. 6. 6. 6.]\n",
      " [6. 6. 6. 6. 6. 6. 6. 6. 5. 6.]\n",
      " [2. 6. 2. 6. 6. 6. 6. 2. 5. 2.]\n",
      " [2. 2. 2. 2. 2. 2. 2. 2. 2. 2.]\n",
      " [5. 5. 5. 5. 5. 5. 5. 5. 5. 6.]\n",
      " [3. 3. 3. 2. 2. 2. 2. 3. 2. 3.]\n",
      " [5. 5. 5. 5. 5. 5. 5. 5. 5. 5.]\n",
      " [2. 2. 2. 2. 2. 2. 2. 2. 2. 2.]]\n"
     ]
    }
   ],
   "source": [
    "# GBDT和逻辑回归联结\n",
    "\n",
    "from sklearn.preprocessing import OneHotEncoder\n",
    "\n",
    "\n",
    "## 为了防止过拟合，使用不同的数据训练GBDT和逻辑回归\n",
    "train_GBDT, train_LR = train_test_split(train_data, test_size=0.5)\n",
    "## 使用GBDT对前三个变量做变换\n",
    "m = 3\n",
    "tree_num = 10\n",
    "_gbdt = GradientBoostingClassifier(max_depth=2, n_estimators=tree_num)\n",
    "_gbdt.fit(train_GBDT[features[:m]], train_GBDT[label])\n",
    "## 得到数据所在的叶子节点\n",
    "leaf_node = _gbdt.apply(train_GBDT[features[:m]]).reshape(-1, tree_num)\n",
    "print(leaf_node[:10])"
   ]
  },
  {
   "cell_type": "code",
   "execution_count": 6,
   "metadata": {},
   "outputs": [
    {
     "name": "stdout",
     "output_type": "stream",
     "text": [
      "[[ 0.          0.          1.          0.          0.          0.\n",
      "   1.          0.          0.          0.          1.          0.\n",
      "   0.          0.          1.          0.          0.          0.\n",
      "   1.          0.          0.          0.          1.          0.\n",
      "   0.          0.          1.          0.          0.          0.\n",
      "   1.          0.          0.          0.          1.          0.\n",
      "   0.          0.          1.          0.         -0.62513069]]\n",
      "(1000, 41)\n"
     ]
    },
    {
     "name": "stderr",
     "output_type": "stream",
     "text": [
      "/anaconda3/lib/python3.6/site-packages/sklearn/preprocessing/_encoders.py:363: FutureWarning: The handling of integer data will change in version 0.22. Currently, the categories are determined based on the range [0, max(values)], while in the future they will be determined based on the unique values.\n",
      "If you want the future behaviour and silence this warning, you can specify \"categories='auto'\".\n",
      "In case you used a LabelEncoder before this OneHotEncoder to convert the categories to integers, then you can now use the OneHotEncoder directly.\n",
      "  warnings.warn(msg, FutureWarning)\n"
     ]
    }
   ],
   "source": [
    "# GBDT和逻辑回归联结\n",
    "## 生成虚拟变量\n",
    "coder = OneHotEncoder()\n",
    "coder.fit(leaf_node)\n",
    "new_feature = np.c_[\n",
    "    coder.transform(_gbdt.apply(train_LR[features[:m]]).reshape(-1, tree_num)).toarray(),\n",
    "    train_LR[features[m:]]]\n",
    "print(new_feature[:1])\n",
    "print(new_feature.shape)"
   ]
  },
  {
   "cell_type": "code",
   "execution_count": 7,
   "metadata": {},
   "outputs": [
    {
     "name": "stdout",
     "output_type": "stream",
     "text": [
      "[array([2., 3., 5., 6.]), array([2., 3., 5., 6.]), array([2., 3., 5., 6.]), array([2., 3., 5., 6.]), array([2., 3., 5., 6.]), array([2., 3., 5., 6.]), array([2., 3., 5., 6.]), array([2., 3., 5., 6.]), array([2., 3., 5., 6.]), array([2., 3., 5., 6.])]\n"
     ]
    }
   ],
   "source": [
    "# 将每棵树叶子节点对应类别打印出来\n",
    "print(coder.categories_)"
   ]
  },
  {
   "cell_type": "code",
   "execution_count": 8,
   "metadata": {},
   "outputs": [
    {
     "name": "stdout",
     "output_type": "stream",
     "text": [
      "[0, 4, 8, 12, 16, 20, 24, 28, 32, 36]\n"
     ]
    }
   ],
   "source": [
    "# 将基准类别挑选出来\n",
    "def f(data):\n",
    "    re = 0\n",
    "    for i in data:\n",
    "        re += i.shape[0]\n",
    "    return re\n",
    "\n",
    "index_to_delete = [f(coder.categories_[: i]) for i in range(len(coder.categories_))]\n",
    "print(index_to_delete)"
   ]
  },
  {
   "cell_type": "code",
   "execution_count": 9,
   "metadata": {},
   "outputs": [
    {
     "name": "stdout",
     "output_type": "stream",
     "text": [
      "[1, 2, 3, 5, 6, 7, 9, 10, 11, 13, 14, 15, 17, 18, 19, 21, 22, 23, 25, 26, 27, 29, 30, 31, 33, 34, 35, 37, 38, 39, 40]\n",
      "(1000, 31)\n"
     ]
    }
   ],
   "source": [
    "# 将入模型的特征挑选出来\n",
    "feature_index = [i for i in range(new_feature.shape[-1]) if i not in index_to_delete]\n",
    "print(feature_index)\n",
    "print(new_feature[:, feature_index].shape)"
   ]
  },
  {
   "cell_type": "code",
   "execution_count": 10,
   "metadata": {},
   "outputs": [
    {
     "name": "stderr",
     "output_type": "stream",
     "text": [
      "/anaconda3/lib/python3.6/site-packages/sklearn/linear_model/logistic.py:432: FutureWarning: Default solver will be changed to 'lbfgs' in 0.22. Specify a solver to silence this warning.\n",
      "  FutureWarning)\n"
     ]
    }
   ],
   "source": [
    "_logit = LogisticRegression()\n",
    "_logit.fit(new_feature[:, feature_index], train_LR[label])\n",
    "## 对测试集的数据做同样的处理\n",
    "test_feature = np.c_[\n",
    "    coder.transform(_gbdt.apply(test_data[features[:m]]).reshape(-1, tree_num)).toarray(),\n",
    "    test_data[features[m:]]]\n",
    "dt_logit_prob = _logit.predict_proba(test_feature[:, feature_index])[:, 1]\n",
    "res[\"GBDT + logit\"] = roc_curve(test_data[label], dt_logit_prob)"
   ]
  },
  {
   "cell_type": "code",
   "execution_count": 12,
   "metadata": {},
   "outputs": [
    {
     "data": {
      "image/png": "[encoded data removed]",
      "text/plain": [
       "<matplotlib.figure.Figure at 0x120907b00>"
      ]
     },
     "metadata": {
      "needs_background": "light"
     },
     "output_type": "display_data"
    }
   ],
   "source": [
    "# 将模型结果可视化\n",
    "\n",
    "import matplotlib.pyplot as plt\n",
    "from sklearn.metrics import auc\n",
    "\n",
    "\n",
    "## 创建一个图形框\n",
    "fig = plt.figure(figsize=(6, 6), dpi=80)\n",
    "ax = fig.add_subplot(1, 1, 1)\n",
    "ax.set_xlim([0, 1])\n",
    "ax.set_ylim([0, 1])\n",
    "styles = [\"k--\", \"r-.\", \"b\"]\n",
    "model = [\"logit\", \"GBDT\", \"GBDT + logit\"]\n",
    "for i, s in zip(model, styles):\n",
    "    fpr, tpr, _ = res[i]\n",
    "    _auc = auc(fpr, tpr)\n",
    "    ax.plot(fpr, tpr, s,\n",
    "            label=\"%s:%s; %s=%0.2f\" % (\"模型\", i, \"曲线下面积（AUC）\", _auc))\n",
    "legend = plt.legend(loc=4, shadow=True)\n",
    "plt.show()"
   ]
  }
 ],
 "metadata": {
  "kernelspec": {
   "display_name": "Python 3",
   "language": "python",
   "name": "python3"
  },
  "language_info": {
   "codemirror_mode": {
    "name": "ipython",
    "version": 3
   },
   "file_extension": ".py",
   "mimetype": "text/x-python",
   "name": "python",
   "nbconvert_exporter": "python",
   "pygments_lexer": "ipython3",
   "version": "3.6.6"
  }
 },
 "nbformat": 4,
 "nbformat_minor": 2
}
